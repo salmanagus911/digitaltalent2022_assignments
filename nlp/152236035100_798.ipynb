{
  "cells": [
    {
      "cell_type": "code",
      "execution_count": null,
      "metadata": {
        "id": "t68PiZcNQpq0"
      },
      "outputs": [],
      "source": [
        "import re\n",
        "import string\n",
        "import numpy as np\n",
        "import pandas as pd\n",
        "import matplotlib.pyplot as plt\n",
        "\n",
        "from sklearn.preprocessing import LabelEncoder\n",
        "from sklearn.model_selection import train_test_split\n",
        "\n",
        "from tensorflow.keras.utils import to_categorical\n",
        "from tensorflow.keras.preprocessing.text import Tokenizer\n",
        "from tensorflow.keras.preprocessing.sequence import pad_sequences\n",
        "\n",
        "from tensorflow.keras.optimizers import Adam\n",
        "from tensorflow.keras.models import Sequential\n",
        "from tensorflow.keras.callbacks import EarlyStopping\n",
        "from tensorflow.keras.layers import Dense, LSTM, Embedding, Bidirectional, Dropout"
      ]
    },
    {
      "cell_type": "code",
      "execution_count": null,
      "metadata": {
        "colab": {
          "base_uri": "https://localhost:8080/"
        },
        "id": "S5tbyjXjQ2FQ",
        "outputId": "72c1c241-9f9b-44a7-80d9-3d7eb6305866"
      },
      "outputs": [
        {
          "name": "stdout",
          "output_type": "stream",
          "text": [
            "Drive already mounted at /content/drive; to attempt to forcibly remount, call drive.mount(\"/content/drive\", force_remount=True).\n"
          ]
        }
      ],
      "source": [
        "from google.colab import drive\n",
        "drive.mount('/content/drive')"
      ]
    },
    {
      "cell_type": "code",
      "execution_count": null,
      "metadata": {
        "id": "8D27h1V5Qpq5"
      },
      "outputs": [],
      "source": [
        "# Text preprocessing function\n",
        "str_punc = string.punctuation.replace(',', '').replace(\"'\",'')\n",
        "\n",
        "def clean(text):\n",
        "    global str_punc\n",
        "    text = re.sub(r'[^a-zA-Z ]', '', text)\n",
        "    text = text.lower()\n",
        "    return text    "
      ]
    },
    {
      "cell_type": "code",
      "execution_count": null,
      "metadata": {
        "id": "orwQDQnyQpq7"
      },
      "outputs": [],
      "source": [
        "# Read dataset & Preprocess text\n",
        "df_train = pd.read_csv('/content/drive/MyDrive/Proa-ML/Week6/assignment/train.txt', names=['Text', 'Emotion'], sep=';')\n",
        "df_val = pd.read_csv('/content/drive/MyDrive/Proa-ML/Week6/assignment/val.txt', names=['Text', 'Emotion'], sep=';')\n",
        "df_test = pd.read_csv('/content/drive/MyDrive/Proa-ML/Week6/assignment/test.txt', names=['Text', 'Emotion'], sep=';')\n",
        "\n",
        "X_train = df_train['Text'].apply(clean)\n",
        "y_train = df_train['Emotion']\n",
        "\n",
        "X_test = df_test['Text'].apply(clean)\n",
        "y_test = df_test['Emotion']\n",
        "\n",
        "X_val = df_val['Text'].apply(clean)\n",
        "y_val = df_val['Emotion']"
      ]
    },
    {
      "cell_type": "code",
      "execution_count": null,
      "metadata": {
        "colab": {
          "base_uri": "https://localhost:8080/",
          "height": 902
        },
        "id": "_OFClA3aQpq9",
        "outputId": "3ccd307a-bed6-4256-9f05-5541e175062d"
      },
      "outputs": [
        {
          "data": {
            "image/png": "[encoded data removed]",
            "text/plain": [
              "<Figure size 432x288 with 1 Axes>"
            ]
          },
          "metadata": {},
          "output_type": "display_data"
        },
        {
          "data": {
            "image/png": "[encoded data removed]",
            "text/plain": [
              "<Figure size 432x288 with 1 Axes>"
            ]
          },
          "metadata": {},
          "output_type": "display_data"
        },
        {
          "data": {
            "image/png": "[encoded data removed]",
            "text/plain": [
              "<Figure size 432x288 with 1 Axes>"
            ]
          },
          "metadata": {},
          "output_type": "display_data"
        }
      ],
      "source": [
        "# Visualize classes counts\n",
        "colors = np.array([\"gray\", 'orangered', 'hotpink', 'gold', 'teal', 'cornflowerblue'])\n",
        "\n",
        "df_train['Emotion'].value_counts().plot(kind='bar', color=colors)\n",
        "plt.title(\"Training data - classes counts\")\n",
        "plt.show()\n",
        "\n",
        "df_test['Emotion'].value_counts().plot(kind='bar', color=colors)\n",
        "plt.title(\"Testing data - classes counts\")\n",
        "plt.show()\n",
        "\n",
        "df_val['Emotion'].value_counts().plot(kind='bar', color=colors)\n",
        "plt.title(\"Validation data - classes counts\")\n",
        "plt.show()"
      ]
    },
    {
      "cell_type": "code",
      "execution_count": null,
      "metadata": {
        "id": "V9F2tWMGQpq_"
      },
      "outputs": [],
      "source": [
        "# Encode labels\n",
        "# Sudah disediakan beberapa variable, lengkapi variabel tersebut\n",
        "le = LabelEncoder()\n",
        "y_train = le.fit_transform(y_train)\n",
        "y_test = le.fit_transform(y_test)\n",
        "y_val = le.fit_transform(y_val)\n",
        "\n",
        "y_train = to_categorical(y_train)\n",
        "y_test = to_categorical(y_test)\n",
        "y_val = to_categorical(y_val)"
      ]
    },
    {
      "cell_type": "code",
      "execution_count": null,
      "metadata": {
        "colab": {
          "base_uri": "https://localhost:8080/"
        },
        "id": "d40kAQnHQprC",
        "outputId": "8fe628c4-63a8-47c3-df1a-4dd57ac7478b"
      },
      "outputs": [
        {
          "name": "stdout",
          "output_type": "stream",
          "text": [
            "Vocabulary size = 16185\n"
          ]
        }
      ],
      "source": [
        "# Tokenize words\n",
        "tokenizer = Tokenizer()\n",
        "tokenizer.fit_on_texts(pd.concat([X_train, X_test], axis=0))\n",
        "\n",
        "sequences_train = tokenizer.texts_to_sequences(X_train)\n",
        "sequences_test = tokenizer.texts_to_sequences(X_test)\n",
        "sequences_val = tokenizer.texts_to_sequences(X_val)\n",
        "\n",
        "X_train = pad_sequences(sequences_train, maxlen=256, truncating='pre')\n",
        "X_test = pad_sequences(sequences_test, maxlen=256, truncating='pre')\n",
        "X_val = pad_sequences(sequences_val, maxlen=256, truncating='pre')\n",
        "\n",
        "vocabSize = len(tokenizer.index_word) + 1\n",
        "print(f\"Vocabulary size = {vocabSize}\")"
      ]
    },
    {
      "cell_type": "code",
      "execution_count": null,
      "metadata": {
        "colab": {
          "base_uri": "https://localhost:8080/"
        },
        "id": "e67R2xDlQprD",
        "outputId": "5081953f-8977-4a71-da84-fc8a4069751f"
      },
      "outputs": [
        {
          "name": "stdout",
          "output_type": "stream",
          "text": [
            "Found 400000 word vectors.\n",
            "Converted 15069 words (1115 misses)\n"
          ]
        }
      ],
      "source": [
        "#Read GloVE embeddings\n",
        "path_to_glove_file = '/content/drive/MyDrive/Proa-ML/Week6/assignment/glove.6B.200d.txt'\n",
        "num_tokens = vocabSize\n",
        "embedding_dim = 200\n",
        "hits = 0\n",
        "misses = 0\n",
        "embeddings_index = {}\n",
        "\n",
        "# Read word vectors\n",
        "with open(path_to_glove_file) as f:\n",
        "    for line in f:\n",
        "        word, coefs = line.split(maxsplit=1)\n",
        "        coefs = np.fromstring(coefs, \"f\", sep=\" \")\n",
        "        embeddings_index[word] = coefs\n",
        "print(\"Found %s word vectors.\" % len(embeddings_index))\n",
        "\n",
        "\n",
        "# Assign word vectors to our dictionary/vocabulary\n",
        "embedding_matrix = np.zeros((num_tokens, embedding_dim))\n",
        "for word, i in tokenizer.word_index.items():\n",
        "    embedding_vector = embeddings_index.get(word)\n",
        "    if embedding_vector is not None:\n",
        "        # Words not found in embedding index will be all-zeros.\n",
        "        # This includes the representation for \"padding\" and \"OOV\"\n",
        "        embedding_matrix[i] = embedding_vector\n",
        "        hits += 1\n",
        "    else:\n",
        "        misses += 1\n",
        "print(\"Converted %d words (%d misses)\" % (hits, misses))"
      ]
    },
    {
      "cell_type": "code",
      "execution_count": null,
      "metadata": {
        "colab": {
          "base_uri": "https://localhost:8080/"
        },
        "id": "wSJWnBz2QprE",
        "outputId": "d41636f6-ac65-4aa7-d1a3-85ed5c5ec0d5"
      },
      "outputs": [
        {
          "name": "stdout",
          "output_type": "stream",
          "text": [
            "WARNING:tensorflow:Layer lstm_5 will not use cuDNN kernels since it doesn't meet the criteria. It will use a generic GPU kernel as fallback when running on GPU.\n",
            "WARNING:tensorflow:Layer lstm_5 will not use cuDNN kernels since it doesn't meet the criteria. It will use a generic GPU kernel as fallback when running on GPU.\n",
            "WARNING:tensorflow:Layer lstm_5 will not use cuDNN kernels since it doesn't meet the criteria. It will use a generic GPU kernel as fallback when running on GPU.\n"
          ]
        }
      ],
      "source": [
        "# Build neural network architecture\n",
        "\n",
        "adam = Adam(learning_rate=0.005)\n",
        "#code here\n",
        "\n",
        "#hyperparameters\n",
        "class_num = 6\n",
        "dropout_rate = 0.2\n",
        "recurrent_dropout_rate = 0.2\n",
        "num_epoch = 30\n",
        "input_length = X_train.shape[1]\n",
        "num_batch = 128\n",
        "\n",
        "# build nn\n",
        "\n",
        "model = Sequential()\n",
        "model.add(Embedding(input_dim = num_tokens,\n",
        "                    output_dim = embedding_dim,\n",
        "                    input_length = input_length,\n",
        "                    trainable = False))\n",
        "model.add(Dropout(dropout_rate))\n",
        "model.add(Bidirectional(LSTM(256, dropout = dropout_rate, recurrent_dropout=recurrent_dropout_rate)))\n",
        "model.add(Dense(256, activation='relu'))\n",
        "model.add(Dropout(dropout_rate))\n",
        "model.add(Dense(class_num, activation = 'softmax'))\n",
        "model.compile(loss = 'categorical_crossentropy', optimizer = adam,metrics = 'accuracy')\n"
      ]
    },
    {
      "cell_type": "code",
      "execution_count": null,
      "metadata": {
        "id": "VSjuWsCsQprG"
      },
      "outputs": [],
      "source": [
        "#Callback\n",
        "callback = EarlyStopping(\n",
        "    #code here (contains at least : monitor, patience, restore_best_weights)\n",
        "    monitor = 'val_loss', verbose = 1, patience = 5, restore_best_weights=False\n",
        ")"
      ]
    },
    {
      "cell_type": "code",
      "execution_count": null,
      "metadata": {
        "colab": {
          "base_uri": "https://localhost:8080/"
        },
        "id": "CM_GyHrFQprI",
        "outputId": "2f9f352e-d330-429f-a842-b40dac26a844"
      },
      "outputs": [
        {
          "name": "stdout",
          "output_type": "stream",
          "text": [
            "Epoch 1/30\n",
            "125/125 [==============================] - 120s 935ms/step - loss: 1.5822 - accuracy: 0.3359 - val_loss: 1.5757 - val_accuracy: 0.3355\n",
            "Epoch 2/30\n",
            "125/125 [==============================] - 116s 927ms/step - loss: 1.5449 - accuracy: 0.3709 - val_loss: 1.5409 - val_accuracy: 0.3605\n",
            "Epoch 3/30\n",
            "125/125 [==============================] - 119s 949ms/step - loss: 1.5055 - accuracy: 0.3874 - val_loss: 1.4985 - val_accuracy: 0.3885\n",
            "Epoch 4/30\n",
            "125/125 [==============================] - 115s 919ms/step - loss: 1.4384 - accuracy: 0.4243 - val_loss: 1.3640 - val_accuracy: 0.4595\n",
            "Epoch 5/30\n",
            "125/125 [==============================] - 113s 907ms/step - loss: 1.3010 - accuracy: 0.4873 - val_loss: 1.1711 - val_accuracy: 0.5665\n",
            "Epoch 6/30\n",
            "125/125 [==============================] - 113s 903ms/step - loss: 1.1474 - accuracy: 0.5554 - val_loss: 0.9614 - val_accuracy: 0.6375\n",
            "Epoch 7/30\n",
            "125/125 [==============================] - 112s 900ms/step - loss: 1.0304 - accuracy: 0.6001 - val_loss: 0.8837 - val_accuracy: 0.6670\n",
            "Epoch 8/30\n",
            "125/125 [==============================] - 117s 936ms/step - loss: 0.9258 - accuracy: 0.6398 - val_loss: 0.7640 - val_accuracy: 0.7090\n",
            "Epoch 9/30\n",
            "125/125 [==============================] - 114s 910ms/step - loss: 0.8149 - accuracy: 0.6876 - val_loss: 0.6366 - val_accuracy: 0.7665\n",
            "Epoch 10/30\n",
            "125/125 [==============================] - 117s 935ms/step - loss: 0.6969 - accuracy: 0.7381 - val_loss: 0.5845 - val_accuracy: 0.7660\n",
            "Epoch 11/30\n",
            "125/125 [==============================] - 115s 922ms/step - loss: 0.5784 - accuracy: 0.7837 - val_loss: 0.4726 - val_accuracy: 0.8270\n",
            "Epoch 12/30\n",
            "125/125 [==============================] - 113s 908ms/step - loss: 0.4835 - accuracy: 0.8199 - val_loss: 0.3771 - val_accuracy: 0.8585\n",
            "Epoch 13/30\n",
            "125/125 [==============================] - 115s 924ms/step - loss: 0.4050 - accuracy: 0.8451 - val_loss: 0.3545 - val_accuracy: 0.8620\n",
            "Epoch 14/30\n",
            "125/125 [==============================] - 112s 896ms/step - loss: 0.3651 - accuracy: 0.8612 - val_loss: 0.3025 - val_accuracy: 0.8860\n",
            "Epoch 15/30\n",
            "125/125 [==============================] - 114s 909ms/step - loss: 0.3014 - accuracy: 0.8832 - val_loss: 0.2623 - val_accuracy: 0.8995\n",
            "Epoch 16/30\n",
            "125/125 [==============================] - 112s 900ms/step - loss: 0.2734 - accuracy: 0.8926 - val_loss: 0.2541 - val_accuracy: 0.9010\n",
            "Epoch 17/30\n",
            "125/125 [==============================] - 116s 929ms/step - loss: 0.2495 - accuracy: 0.9009 - val_loss: 0.2477 - val_accuracy: 0.9005\n",
            "Epoch 18/30\n",
            "125/125 [==============================] - 113s 904ms/step - loss: 0.2267 - accuracy: 0.9103 - val_loss: 0.2260 - val_accuracy: 0.9080\n",
            "Epoch 19/30\n",
            "125/125 [==============================] - 113s 902ms/step - loss: 0.2027 - accuracy: 0.9213 - val_loss: 0.2117 - val_accuracy: 0.9125\n",
            "Epoch 20/30\n",
            "125/125 [==============================] - 115s 922ms/step - loss: 0.1800 - accuracy: 0.9269 - val_loss: 0.2158 - val_accuracy: 0.9205\n",
            "Epoch 21/30\n",
            "125/125 [==============================] - 116s 930ms/step - loss: 0.1725 - accuracy: 0.9329 - val_loss: 0.2131 - val_accuracy: 0.9140\n",
            "Epoch 22/30\n",
            "125/125 [==============================] - 113s 904ms/step - loss: 0.1581 - accuracy: 0.9367 - val_loss: 0.2018 - val_accuracy: 0.9230\n",
            "Epoch 23/30\n",
            "125/125 [==============================] - 113s 901ms/step - loss: 0.1456 - accuracy: 0.9416 - val_loss: 0.2172 - val_accuracy: 0.9135\n",
            "Epoch 24/30\n",
            "125/125 [==============================] - 114s 916ms/step - loss: 0.1390 - accuracy: 0.9451 - val_loss: 0.1829 - val_accuracy: 0.9170\n",
            "Epoch 25/30\n",
            "125/125 [==============================] - 114s 913ms/step - loss: 0.1316 - accuracy: 0.9472 - val_loss: 0.1913 - val_accuracy: 0.9220\n",
            "Epoch 26/30\n",
            "125/125 [==============================] - 113s 902ms/step - loss: 0.1198 - accuracy: 0.9517 - val_loss: 0.1977 - val_accuracy: 0.9205\n",
            "Epoch 27/30\n",
            "125/125 [==============================] - 114s 909ms/step - loss: 0.1197 - accuracy: 0.9527 - val_loss: 0.1977 - val_accuracy: 0.9215\n",
            "Epoch 28/30\n",
            "125/125 [==============================] - 112s 896ms/step - loss: 0.1089 - accuracy: 0.9586 - val_loss: 0.1880 - val_accuracy: 0.9225\n",
            "Epoch 29/30\n",
            "125/125 [==============================] - 113s 906ms/step - loss: 0.1056 - accuracy: 0.9585 - val_loss: 0.1731 - val_accuracy: 0.9220\n",
            "Epoch 30/30\n",
            "125/125 [==============================] - 111s 890ms/step - loss: 0.1039 - accuracy: 0.9597 - val_loss: 0.2165 - val_accuracy: 0.9225\n"
          ]
        }
      ],
      "source": [
        "# Fit model\n",
        "history = model.fit(\n",
        "    X_train,\n",
        "    y_train,\n",
        "    epochs=num_epoch,\n",
        "    batch_size=num_batch,\n",
        "    validation_data=(X_val, y_val),\n",
        "    verbose = 1,\n",
        "    callbacks=callback\n",
        "    )"
      ]
    },
    {
      "cell_type": "code",
      "execution_count": null,
      "metadata": {
        "colab": {
          "base_uri": "https://localhost:8080/"
        },
        "id": "Duln-TnJQprI",
        "outputId": "72cda508-666d-46ee-d651-3f958e08ae56"
      },
      "outputs": [
        {
          "name": "stdout",
          "output_type": "stream",
          "text": [
            "63/63 [==============================] - 18s 285ms/step - loss: 0.2165 - accuracy: 0.9225\n"
          ]
        },
        {
          "data": {
            "text/plain": [
              "[0.216510608792305, 0.9225000143051147]"
            ]
          },
          "execution_count": 41,
          "metadata": {},
          "output_type": "execute_result"
        }
      ],
      "source": [
        "model.evaluate(X_val, y_val, verbose=1)"
      ]
    },
    {
      "cell_type": "code",
      "execution_count": null,
      "metadata": {
        "colab": {
          "base_uri": "https://localhost:8080/",
          "height": 545
        },
        "id": "0E60nVznQprO",
        "outputId": "d3edf18d-3d29-42c8-f054-06ce65be5600"
      },
      "outputs": [
        {
          "data": {
            "image/png": "[encoded data removed]",
            "text/plain": [
              "<Figure size 432x288 with 1 Axes>"
            ]
          },
          "metadata": {},
          "output_type": "display_data"
        },
        {
          "data": {
            "image/png": "[encoded data removed]",
            "text/plain": [
              "<Figure size 432x288 with 1 Axes>"
            ]
          },
          "metadata": {},
          "output_type": "display_data"
        }
      ],
      "source": [
        "# Visualize Loss & Accuracy\n",
        "\n",
        "%matplotlib inline\n",
        "import matplotlib.pyplot as plt\n",
        "acc = history.history['accuracy']\n",
        "val_acc = history.history['val_accuracy']\n",
        "loss = history.history['loss']\n",
        "val_loss = history.history['val_loss']\n",
        "\n",
        "epochs = range(len(acc))\n",
        "\n",
        "plt.plot(epochs, acc, 'r', label='Training accuracy')\n",
        "plt.plot(epochs, val_acc, 'b', label='Validation accuracy')\n",
        "plt.title('Training and validation accuracy')\n",
        "plt.legend()\n",
        "plt.figure()\n",
        "\n",
        "plt.plot(epochs, loss, 'r', label='Training Loss')\n",
        "plt.plot(epochs, val_loss, 'b', label='Validation Loss')\n",
        "plt.title('Training and validation loss')\n",
        "plt.legend()\n",
        "\n",
        "plt.show()"
      ]
    },
    {
      "cell_type": "code",
      "execution_count": null,
      "metadata": {
        "colab": {
          "background_save": true,
          "base_uri": "https://localhost:8080/"
        },
        "id": "hFGFd0gQQprP",
        "outputId": "87194a7c-f7e7-4180-8d0a-80306ac27d5c"
      },
      "outputs": [
        {
          "name": "stdout",
          "output_type": "stream",
          "text": [
            "i am having an exam tommorow and i feel very anxious\n",
            "fear : 0.9999927282333374\n",
            "\n",
            "i would like to go dinner with you tonight\n",
            "anger : 0.5354531407356262\n",
            "\n"
          ]
        }
      ],
      "source": [
        "# Classify custom sample\n",
        "\n",
        "sentences = [\n",
        "            'i am having an exam tommorow and i feel very anxious',\n",
        "             '\\'\n",
        "            ]\n",
        "for sentence in sentences:\n",
        "    print(sentence)\n",
        "    sentence = clean(sentence)\n",
        "    sentence = tokenizer.texts_to_sequences([sentence])\n",
        "    sentence = pad_sequences(sentence, maxlen=256, truncating='pre')\n",
        "    result = le.inverse_transform(np.argmax(model.predict(sentence), axis=-1))[0]\n",
        "    proba =  np.max(model.predict(sentence))\n",
        "    print(f\"{result} : {proba}\\n\")"
      ]
    },
    {
      "cell_type": "code",
      "execution_count": null,
      "metadata": {
        "id": "1OAz47lBQprP"
      },
      "outputs": [],
      "source": [
        "import pickle\n",
        "with open('tokenizer.pickle', 'wb') as f:\n",
        "    pickle.dump(tokenizer, f)\n",
        "    \n",
        "with open('labelEncoder.pickle', 'wb') as f:\n",
        "    pickle.dump(le, f)\n",
        "    \n",
        "    \n",
        "model.save('Emotion Recognition.h5')"
      ]
    }
  ],
  "metadata": {
    "accelerator": "GPU",
    "colab": {
      "provenance": []
    },
    "gpuClass": "standard",
    "kernelspec": {
      "display_name": "Python 3",
      "language": "python",
      "name": "python3"
    },
    "language_info": {
      "codemirror_mode": {
        "name": "ipython",
        "version": 3
      },
      "file_extension": ".py",
      "mimetype": "text/x-python",
      "name": "python",
      "nbconvert_exporter": "python",
      "pygments_lexer": "ipython3",
      "version": "3.6.4"
    }
  },
  "nbformat": 4,
  "nbformat_minor": 0
}